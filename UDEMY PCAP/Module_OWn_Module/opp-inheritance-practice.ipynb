{
 "cells": [
  {
   "cell_type": "code",
   "execution_count": 8,
   "id": "bbb8fad7",
   "metadata": {},
   "outputs": [
    {
     "data": {
      "text/plain": [
       "True"
      ]
     },
     "execution_count": 8,
     "metadata": {},
     "output_type": "execute_result"
    }
   ],
   "source": [
    "class Vehical:\n",
    "    pass\n",
    "\n",
    "class LandVehical(Vehical):\n",
    "    pass\n",
    "\n",
    "class Car(LandVehical):\n",
    "    pass\n",
    "\n",
    "issubclass(Car, LandVehical)\n"
   ]
  },
  {
   "cell_type": "code",
   "execution_count": 9,
   "id": "de556fc8",
   "metadata": {},
   "outputs": [
    {
     "name": "stdout",
     "output_type": "stream",
     "text": [
      "{}\n"
     ]
    }
   ],
   "source": [
    "my_car = Car()\n",
    "print(my_car.__dict__)"
   ]
  },
  {
   "cell_type": "code",
   "execution_count": 11,
   "id": "5557979f",
   "metadata": {},
   "outputs": [
    {
     "name": "stdout",
     "output_type": "stream",
     "text": [
      "{'speed': 5}\n"
     ]
    }
   ],
   "source": [
    "class Vehical:\n",
    "    def __init__(self,speed):\n",
    "        self.speed = speed\n",
    "\n",
    "class LandVehical(Vehical):\n",
    "    pass\n",
    "\n",
    "class Car(LandVehical):\n",
    "    pass\n",
    "\n",
    "issubclass(Car, LandVehical)\n",
    "my_car = Car(5)\n",
    "print(my_car.__dict__)\n"
   ]
  },
  {
   "cell_type": "code",
   "execution_count": 12,
   "id": "6d85e9a3",
   "metadata": {},
   "outputs": [
    {
     "name": "stdout",
     "output_type": "stream",
     "text": [
      "{'wheel': 5}\n"
     ]
    }
   ],
   "source": [
    "class Vehical:\n",
    "    def __init__(self,speed):\n",
    "        self.speed = speed\n",
    "\n",
    "class LandVehical(Vehical):\n",
    "     def __init__(self,wheel):\n",
    "        self.wheel = wheel\n",
    "\n",
    "class Car(LandVehical):\n",
    "    pass\n",
    "\n",
    "issubclass(Car, LandVehical)\n",
    "my_car = Car(5)\n",
    "print(my_car.__dict__)\n"
   ]
  },
  {
   "cell_type": "code",
   "execution_count": 18,
   "id": "5d163731",
   "metadata": {},
   "outputs": [
    {
     "name": "stdout",
     "output_type": "stream",
     "text": [
      "True\n",
      "{'speed': 5, 'wheels': 4}\n"
     ]
    }
   ],
   "source": [
    "class Vehicle:\n",
    "    def __init__(self, speed):\n",
    "        self.speed = speed\n",
    "\n",
    "class LandVehicle(Vehicle):\n",
    "    def __init__(self, speed, wheels):\n",
    "        super().__init__(speed)\n",
    "        self.wheels = wheels\n",
    "\n",
    "class Car(LandVehicle):\n",
    "    pass\n",
    "\n",
    "print(issubclass(Car, LandVehicle))\n",
    "my_car = Car(5, 4)\n",
    "print(my_car.__dict__)\n"
   ]
  },
  {
   "cell_type": "code",
   "execution_count": 19,
   "id": "6ac66a01",
   "metadata": {},
   "outputs": [
    {
     "data": {
      "text/plain": [
       "5"
      ]
     },
     "execution_count": 19,
     "metadata": {},
     "output_type": "execute_result"
    }
   ],
   "source": [
    "my_car.speed"
   ]
  },
  {
   "cell_type": "code",
   "execution_count": null,
   "id": "3ede6743",
   "metadata": {},
   "outputs": [],
   "source": []
  }
 ],
 "metadata": {
  "kernelspec": {
   "display_name": "Python 3",
   "language": "python",
   "name": "python3"
  },
  "language_info": {
   "codemirror_mode": {
    "name": "ipython",
    "version": 3
   },
   "file_extension": ".py",
   "mimetype": "text/x-python",
   "name": "python",
   "nbconvert_exporter": "python",
   "pygments_lexer": "ipython3",
   "version": "3.8.8"
  }
 },
 "nbformat": 4,
 "nbformat_minor": 5
}
