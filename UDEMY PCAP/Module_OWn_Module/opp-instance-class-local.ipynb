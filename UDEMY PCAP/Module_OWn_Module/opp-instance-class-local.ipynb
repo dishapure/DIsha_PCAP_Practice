{
 "cells": [
  {
   "cell_type": "code",
   "execution_count": 49,
   "id": "d4375e6b",
   "metadata": {
    "scrolled": true
   },
   "outputs": [
    {
     "name": "stdout",
     "output_type": "stream",
     "text": [
      "True\n",
      "True\n",
      "False\n",
      "True\n",
      "False\n",
      "\n",
      "\n",
      "True\n",
      "True\n",
      "False\n",
      "False\n",
      "True\n"
     ]
    }
   ],
   "source": [
    "class Organs:\n",
    "    def __init__(self):\n",
    "        Organs.name1 = \"liver\" # class variable\n",
    "        self.name2 = \"kidney\" # instance varaible\n",
    "        name3 = \"heart\" # local variable ()would always be false becoz no access\n",
    "obj = Organs()\n",
    "obj.name4 = \"leg\"\n",
    "obj2 = Organs()\n",
    "obj2.name5 = \"hand\"\n",
    "print(hasattr(obj,\"name1\"))\n",
    "print(hasattr(obj,\"name2\"))\n",
    "print(hasattr(obj,\"name3\"))\n",
    "print(hasattr(obj,\"name4\"))\n",
    "print(hasattr(obj, \"name5\"))\n",
    "#======================================\n",
    "print(\"\\n\")\n",
    "print(hasattr(obj2, \"name1\"))  # Replace \"obj\" with \"obj2\" and provide appropriate attribute name\n",
    "print(hasattr(obj2, \"name2\"))\n",
    "print(hasattr(obj2, \"name3\"))\n",
    "print(hasattr(obj2, \"name4\"))\n",
    "print(hasattr(obj2, \"name5\"))"
   ]
  },
  {
   "cell_type": "code",
   "execution_count": null,
   "id": "d1facaa1",
   "metadata": {},
   "outputs": [],
   "source": []
  },
  {
   "cell_type": "code",
   "execution_count": null,
   "id": "48fbd667",
   "metadata": {},
   "outputs": [],
   "source": []
  }
 ],
 "metadata": {
  "kernelspec": {
   "display_name": "Python 3",
   "language": "python",
   "name": "python3"
  },
  "language_info": {
   "codemirror_mode": {
    "name": "ipython",
    "version": 3
   },
   "file_extension": ".py",
   "mimetype": "text/x-python",
   "name": "python",
   "nbconvert_exporter": "python",
   "pygments_lexer": "ipython3",
   "version": "3.8.8"
  }
 },
 "nbformat": 4,
 "nbformat_minor": 5
}
