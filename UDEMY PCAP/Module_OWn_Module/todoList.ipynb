{
 "cells": [
  {
   "cell_type": "code",
   "execution_count": 6,
   "id": "e4ba2e6c",
   "metadata": {},
   "outputs": [
    {
     "name": "stdout",
     "output_type": "stream",
     "text": [
      "Enter your choice, 1] add, 2] delete, 3] show, 4] q: 2\n",
      "Current tasks:\n",
      "1. NH bathroom\n",
      "2. 50 bathroom\n",
      "Enter the ID of the task you want to delete: NH\n",
      "Here is the updated task list!\n",
      "You Updated tasks!!!:\n",
      "50 bathroom\n"
     ]
    }
   ],
   "source": [
    "import sys\n",
    "import random\n",
    "import string\n",
    "\n",
    "class ToDoList:\n",
    "    def __init__(self):\n",
    "        self.run()\n",
    "\n",
    "    def run(self):\n",
    "        userinput = input(\"Enter your choice, 1] add, 2] delete, 3] show, 4] q: \")\n",
    "\n",
    "        if userinput == '1':\n",
    "            self.add()\n",
    "        elif userinput == '2':\n",
    "            self.delete()\n",
    "        elif userinput == '3':\n",
    "            self.show()\n",
    "        elif userinput == '4':\n",
    "            print(\"Quitting the to-do list.\")\n",
    "            sys.exit()\n",
    "        else:\n",
    "            print(\"Invalid choice. Please choose again.\")\n",
    "\n",
    "    def add(self):\n",
    "        userinput2 = input(\"What do you want to add? \")\n",
    "        letters = string.ascii_uppercase + string.digits\n",
    "        ID = ''.join(random.choice(letters) for _ in range(2))\n",
    "        with open(\"F.txt\", \"a+\") as file:\n",
    "            file.write(f\"{ID} {userinput2}\\n\")\n",
    "        print(\"Task added!\")\n",
    "        file.close()\n",
    "\n",
    "    def delete(self):\n",
    "        with open(\"F.txt\", \"r\") as file:\n",
    "            lines = file.readlines()\n",
    "            print(\"Current tasks:\")\n",
    "            for index, task in enumerate(lines, start=1):\n",
    "                print(f\"{index}. {task.strip()}\")\n",
    "            userinput3 = input(\"Enter the ID of the task you want to delete: \")\n",
    "            updated_lines = [line for line in lines if not line.startswith(userinput3)]\n",
    "            \n",
    "            with open(\"F.txt\", \"w\") as file:\n",
    "                file.writelines(updated_lines)\n",
    "            print(\"Here is the updated task list!\")\n",
    "            with open(\"F.txt\", \"r\") as file:\n",
    "                lines = file.readlines()\n",
    "                print(\"You Updated tasks!!!:\")\n",
    "                for task in lines:\n",
    "                    print(task.strip())\n",
    "        file.close()\n",
    "\n",
    "    def show(self):\n",
    "        with open(\"F.txt\", \"r\") as file:\n",
    "            lines = file.readlines()\n",
    "            print(\"Current tasks:\")\n",
    "            for task in lines:\n",
    "                print(task.strip())\n",
    "        file.close()\n",
    "\n",
    "if __name__ == \"__main__\":\n",
    "    obj = ToDoList()\n"
   ]
  },
  {
   "cell_type": "code",
   "execution_count": null,
   "id": "c64e3a52",
   "metadata": {},
   "outputs": [],
   "source": []
  }
 ],
 "metadata": {
  "kernelspec": {
   "display_name": "Python 3",
   "language": "python",
   "name": "python3"
  },
  "language_info": {
   "codemirror_mode": {
    "name": "ipython",
    "version": 3
   },
   "file_extension": ".py",
   "mimetype": "text/x-python",
   "name": "python",
   "nbconvert_exporter": "python",
   "pygments_lexer": "ipython3",
   "version": "3.8.8"
  }
 },
 "nbformat": 4,
 "nbformat_minor": 5
}
