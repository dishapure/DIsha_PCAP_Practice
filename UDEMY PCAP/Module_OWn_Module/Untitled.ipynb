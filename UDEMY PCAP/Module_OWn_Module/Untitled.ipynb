{
 "cells": [
  {
   "cell_type": "code",
   "execution_count": 1,
   "id": "24c994c9",
   "metadata": {},
   "outputs": [],
   "source": [
    "try:\n",
    "    stream = open(\"animals.txt\",\"w\")\n",
    "    stream.write(\"PIKY DOG\")\n",
    "    stream.close()\n",
    "except:\n",
    "    print(\"error\")"
   ]
  },
  {
   "cell_type": "code",
   "execution_count": 2,
   "id": "2960821e",
   "metadata": {},
   "outputs": [],
   "source": [
    "try:\n",
    "    stream = open(\"animals.txt\",\"w\")\n",
    "    stream.write(\"bombombombombombom\") \n",
    "    stream.close()\n",
    "except:\n",
    "    print(\"error\")"
   ]
  },
  {
   "cell_type": "code",
   "execution_count": null,
   "id": "f88579a5",
   "metadata": {},
   "outputs": [],
   "source": []
  }
 ],
 "metadata": {
  "kernelspec": {
   "display_name": "Python 3",
   "language": "python",
   "name": "python3"
  },
  "language_info": {
   "codemirror_mode": {
    "name": "ipython",
    "version": 3
   },
   "file_extension": ".py",
   "mimetype": "text/x-python",
   "name": "python",
   "nbconvert_exporter": "python",
   "pygments_lexer": "ipython3",
   "version": "3.8.8"
  }
 },
 "nbformat": 4,
 "nbformat_minor": 5
}
