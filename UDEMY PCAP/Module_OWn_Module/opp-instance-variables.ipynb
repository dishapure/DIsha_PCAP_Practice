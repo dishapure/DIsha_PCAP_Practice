{
 "cells": [
  {
   "cell_type": "code",
   "execution_count": 15,
   "id": "7f5a08fa",
   "metadata": {},
   "outputs": [
    {
     "name": "stdout",
     "output_type": "stream",
     "text": [
      "i ma  tell you who you are ... you got it!\n"
     ]
    }
   ],
   "source": [
    "class Hello:\n",
    "    def __init__(self):\n",
    "        self.__secret = \"u know the password bas.. yeah you got it\"\n",
    "        self.secret1 = \"boy you are bad\"\n",
    "\n",
    "obj1 = Hello()\n",
    "obj1._Hello__secret = \"i ma  tell you who you are ... you got it!\"\n",
    "print(obj1._Hello__secret)\n"
   ]
  },
  {
   "cell_type": "code",
   "execution_count": null,
   "id": "f85cacef",
   "metadata": {},
   "outputs": [],
   "source": []
  }
 ],
 "metadata": {
  "kernelspec": {
   "display_name": "Python 3",
   "language": "python",
   "name": "python3"
  },
  "language_info": {
   "codemirror_mode": {
    "name": "ipython",
    "version": 3
   },
   "file_extension": ".py",
   "mimetype": "text/x-python",
   "name": "python",
   "nbconvert_exporter": "python",
   "pygments_lexer": "ipython3",
   "version": "3.8.8"
  }
 },
 "nbformat": 4,
 "nbformat_minor": 5
}
