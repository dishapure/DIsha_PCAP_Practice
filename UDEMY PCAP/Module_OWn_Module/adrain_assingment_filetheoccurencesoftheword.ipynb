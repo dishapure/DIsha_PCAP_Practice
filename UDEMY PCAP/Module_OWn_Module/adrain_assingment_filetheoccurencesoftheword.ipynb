{
 "cells": [
  {
   "cell_type": "code",
   "execution_count": 23,
   "id": "3a88198e",
   "metadata": {},
   "outputs": [
    {
     "name": "stdout",
     "output_type": "stream",
     "text": [
      "Counter: 1\n",
      "Search done\n"
     ]
    }
   ],
   "source": [
    "def count_occurences(file_name, word):\n",
    "    file = open(file_name, \"r\")\n",
    "    counter = 0\n",
    "    for line in file:\n",
    "        index = line.find(word)\n",
    "        if index != -1:\n",
    "            counter += 1\n",
    "    \n",
    "    file.close()\n",
    "    \n",
    "    if counter > 0:\n",
    "        print(\"Counter:\", counter)\n",
    "        print(\"Search done\")\n",
    "    else:\n",
    "        print(\"Word not found in the file\")\n",
    "\n",
    "count_occurences(\"animals.txt\", \"crazy\")\n"
   ]
  }
 ],
 "metadata": {
  "kernelspec": {
   "display_name": "Python 3",
   "language": "python",
   "name": "python3"
  },
  "language_info": {
   "codemirror_mode": {
    "name": "ipython",
    "version": 3
   },
   "file_extension": ".py",
   "mimetype": "text/x-python",
   "name": "python",
   "nbconvert_exporter": "python",
   "pygments_lexer": "ipython3",
   "version": "3.8.8"
  }
 },
 "nbformat": 4,
 "nbformat_minor": 5
}
