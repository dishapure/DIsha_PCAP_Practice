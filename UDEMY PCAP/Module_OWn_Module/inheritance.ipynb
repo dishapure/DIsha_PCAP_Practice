{
 "cells": [
  {
   "cell_type": "code",
   "execution_count": 4,
   "id": "728b99af",
   "metadata": {},
   "outputs": [
    {
     "name": "stdout",
     "output_type": "stream",
     "text": [
      "This is a message vehicle\n"
     ]
    }
   ],
   "source": [
    "class Vehicle:\n",
    "    class_message = \"This is a message vehicle\"\n",
    "    \n",
    "    def __init__(self, speed):\n",
    "        self.speed = speed\n",
    "\n",
    "class LandVehicle(Vehicle):\n",
    "    def __init__(self, speed, wheels):\n",
    "        super().__init__(speed)\n",
    "        self.wheels = wheels\n",
    "        print(super().class_message)\n",
    "\n",
    "class Car(LandVehicle):\n",
    "    pass\n",
    "\n",
    "my_car = Car(50, 4)\n"
   ]
  },
  {
   "cell_type": "code",
   "execution_count": 5,
   "id": "bfe5be96",
   "metadata": {},
   "outputs": [
    {
     "data": {
      "text/plain": [
       "'This is a message vehicle'"
      ]
     },
     "execution_count": 5,
     "metadata": {},
     "output_type": "execute_result"
    }
   ],
   "source": [
    "my_car.class_message"
   ]
  },
  {
   "cell_type": "code",
   "execution_count": 12,
   "id": "2b875dc3",
   "metadata": {},
   "outputs": [
    {
     "name": "stdout",
     "output_type": "stream",
     "text": [
      "This is a message vehicle\n",
      "This is a message vehicle\n",
      "{'speed': 10, 'wheels': 4}\n"
     ]
    }
   ],
   "source": [
    "class Vehicle:\n",
    "    class_message = \"This is a message vehicle\"\n",
    "    \n",
    "    def __init__(self, speed):\n",
    "        self.speed = speed\n",
    "\n",
    "class LandVehicle(Vehicle):\n",
    "    def __init__(self, speed, wheels):\n",
    "        super().__init__(speed)\n",
    "        self.wheels = wheels\n",
    "        print(super().class_message)\n",
    "        \n",
    "    def speed_up(self):\n",
    "        self.speed += 5\n",
    "\n",
    "class Car(LandVehicle):\n",
    "    def super_speed(self):\n",
    "        print(\"super speed activated\")\n",
    "        super().speed_up()\n",
    "        super().speed_up()\n",
    "        super().speed_up()\n",
    "\n",
    "my_car = Car(50, 4)\n",
    "my_Fast_Car = Car(10, 4)\n",
    "print(my_Fast_Car.__dict__)\n"
   ]
  },
  {
   "cell_type": "code",
   "execution_count": null,
   "id": "94d7f9e6",
   "metadata": {},
   "outputs": [],
   "source": []
  },
  {
   "cell_type": "code",
   "execution_count": null,
   "id": "695a0c90",
   "metadata": {},
   "outputs": [],
   "source": []
  }
 ],
 "metadata": {
  "kernelspec": {
   "display_name": "Python 3",
   "language": "python",
   "name": "python3"
  },
  "language_info": {
   "codemirror_mode": {
    "name": "ipython",
    "version": 3
   },
   "file_extension": ".py",
   "mimetype": "text/x-python",
   "name": "python",
   "nbconvert_exporter": "python",
   "pygments_lexer": "ipython3",
   "version": "3.8.8"
  }
 },
 "nbformat": 4,
 "nbformat_minor": 5
}
