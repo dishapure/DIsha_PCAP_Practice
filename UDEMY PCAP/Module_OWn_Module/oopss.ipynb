{
 "cells": [
  {
   "cell_type": "code",
   "execution_count": 4,
   "id": "46c5e963",
   "metadata": {},
   "outputs": [
    {
     "name": "stdout",
     "output_type": "stream",
     "text": [
      "going\n",
      "flying\n"
     ]
    }
   ],
   "source": [
    "class Vehical():\n",
    "    def go(self):\n",
    "        print(\"going\")\n",
    "class Flyable():\n",
    "    def fly(self):\n",
    "        print(\"flying\")\n",
    "class Airplane(Vehical,Flyable):\n",
    "    pass\n",
    "\n",
    "myplane = Airplane()\n",
    "myplane.go()\n",
    "myplane.fly()"
   ]
  },
  {
   "cell_type": "code",
   "execution_count": 5,
   "id": "5feb220b",
   "metadata": {},
   "outputs": [
    {
     "name": "stdout",
     "output_type": "stream",
     "text": [
      "i am a vehical\n"
     ]
    }
   ],
   "source": [
    "class Vehical():\n",
    "    def go(self):\n",
    "        print(\"going\")\n",
    "    def introduce(self):\n",
    "        print(\"i am a vehical\")\n",
    "        \n",
    "class Flyable():\n",
    "    def fly(self):\n",
    "        print(\"flying\")\n",
    "    def introduce(self):\n",
    "        print(\"i am a flyable\")\n",
    "class Airplane(Vehical,Flyable):\n",
    "    \n",
    "    pass\n",
    "\n",
    "myplane = Airplane()\n",
    "myplane.introduce()\n"
   ]
  },
  {
   "cell_type": "code",
   "execution_count": 6,
   "id": "7571a215",
   "metadata": {},
   "outputs": [
    {
     "name": "stdout",
     "output_type": "stream",
     "text": [
      "i am a flyable\n"
     ]
    }
   ],
   "source": [
    "class Vehical():\n",
    "    def go(self):\n",
    "        print(\"going\")\n",
    "    def introduce(self):\n",
    "        print(\"i am a vehical\")\n",
    "        \n",
    "class Flyable():\n",
    "    def fly(self):\n",
    "        print(\"flying\")\n",
    "    def introduce(self):\n",
    "        print(\"i am a flyable\")\n",
    "class Airplane(Flyable,Vehical):\n",
    "    \n",
    "    pass\n",
    "\n",
    "myplane = Airplane()\n",
    "myplane.introduce()\n"
   ]
  },
  {
   "cell_type": "code",
   "execution_count": 7,
   "id": "c9fa6d59",
   "metadata": {},
   "outputs": [
    {
     "name": "stdout",
     "output_type": "stream",
     "text": [
      "i am a airplane\n"
     ]
    }
   ],
   "source": [
    "class Vehical():\n",
    "    def go(self):\n",
    "        print(\"going\")\n",
    "    def introduce(self):\n",
    "        print(\"i am a vehical\")\n",
    "        \n",
    "class Flyable():\n",
    "    def fly(self):\n",
    "        print(\"flying\")\n",
    "    def introduce(self):\n",
    "        print(\"i am a flyable\")\n",
    "class Airplane(Flyable,Vehical):\n",
    "    \n",
    "    def introduce(self):\n",
    "        print(\"i am a airplane\")\n",
    "\n",
    "myplane = Airplane()\n",
    "myplane.introduce()\n"
   ]
  },
  {
   "cell_type": "code",
   "execution_count": 10,
   "id": "1013db41",
   "metadata": {},
   "outputs": [
    {
     "name": "stdout",
     "output_type": "stream",
     "text": [
      "(<class 'object'>,)\n",
      "(<class 'object'>,)\n",
      "(<class '__main__.Vehicle'>,)\n",
      "(<class '__main__.PetrolVehicle'>, <class '__main__.Rideable'>)\n"
     ]
    }
   ],
   "source": [
    "class Vehicle():\n",
    "   pass\n",
    "        \n",
    "class Rideable():\n",
    "   pass\n",
    "      \n",
    "class PetrolVehicle(Vehicle):\n",
    "   pass\n",
    "        \n",
    "class Car(PetrolVehicle, Rideable):\n",
    "   pass\n",
    "\n",
    "\n",
    "print(Vehicle.__bases__)\n",
    "print(Rideable.__bases__)\n",
    "print(PetrolVehicle.__bases__)\n",
    "print(Car.__bases__)"
   ]
  },
  {
   "cell_type": "code",
   "execution_count": null,
   "id": "49a38021",
   "metadata": {},
   "outputs": [],
   "source": []
  }
 ],
 "metadata": {
  "kernelspec": {
   "display_name": "Python 3",
   "language": "python",
   "name": "python3"
  },
  "language_info": {
   "codemirror_mode": {
    "name": "ipython",
    "version": 3
   },
   "file_extension": ".py",
   "mimetype": "text/x-python",
   "name": "python",
   "nbconvert_exporter": "python",
   "pygments_lexer": "ipython3",
   "version": "3.8.8"
  }
 },
 "nbformat": 4,
 "nbformat_minor": 5
}
