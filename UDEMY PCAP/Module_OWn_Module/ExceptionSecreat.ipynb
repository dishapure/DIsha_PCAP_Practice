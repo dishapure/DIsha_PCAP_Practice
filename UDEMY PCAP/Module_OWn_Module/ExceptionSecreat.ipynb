{
 "cells": [
  {
   "cell_type": "code",
   "execution_count": 2,
   "id": "75d964d4",
   "metadata": {},
   "outputs": [
    {
     "name": "stdout",
     "output_type": "stream",
     "text": [
      "you are not our secreat agent MR/now a days MS too... ;)\n"
     ]
    }
   ],
   "source": []
  },
  {
   "cell_type": "code",
   "execution_count": null,
   "id": "150d50fb",
   "metadata": {},
   "outputs": [],
   "source": [
    "class HackerPresentException(Exception):\n",
    "        print(\"you are not our secreat agent MR/now a days MS too... ;)\")\n",
    "\n",
    "class CheckEmployeeValidity:\n",
    "    \n",
    "    def __init__(self):\n",
    "        self.username = input(\"Enter your username: \")\n",
    "        self.password = input(\"Enter your password: \")\n",
    "         \n",
    "        self.userdict = {\"atif\": \"D89ndu\", \"arman malik\": \"9hjhD\", \"arjit singh\": \"iljd9yyhYD\", \"jubin\": \"$*HDDS\"}\n",
    "    \n",
    "        if self.username in self.userdict and self.userdict[self.username] == self.password:\n",
    "            print(\"Secret: The party is today in Las Vegas!\")\n",
    "        else:\n",
    "            raise HackerPresentException(\"Get lost you loser, NO ENTRY!!!!\")\n",
    "    \n",
    "try:\n",
    "    obj1 = CheckEmployeeValidity()\n",
    "except HackerPresentException:\n",
    "     print(\"you are not our secreat agent MR/now a days MS too... ;)\")\n",
    "     print(\"Get lost you loser, NO ENTRY!!!!\")\n"
   ]
  },
  {
   "cell_type": "code",
   "execution_count": null,
   "id": "b3a4ebf2",
   "metadata": {},
   "outputs": [],
   "source": []
  },
  {
   "cell_type": "code",
   "execution_count": null,
   "id": "5cd44d53",
   "metadata": {},
   "outputs": [],
   "source": []
  }
 ],
 "metadata": {
  "kernelspec": {
   "display_name": "Python 3",
   "language": "python",
   "name": "python3"
  },
  "language_info": {
   "codemirror_mode": {
    "name": "ipython",
    "version": 3
   },
   "file_extension": ".py",
   "mimetype": "text/x-python",
   "name": "python",
   "nbconvert_exporter": "python",
   "pygments_lexer": "ipython3",
   "version": "3.8.8"
  }
 },
 "nbformat": 4,
 "nbformat_minor": 5
}
