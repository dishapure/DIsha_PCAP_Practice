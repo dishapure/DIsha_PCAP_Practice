{
 "cells": [
  {
   "cell_type": "code",
   "execution_count": 2,
   "id": "bb808576",
   "metadata": {},
   "outputs": [
    {
     "name": "stdout",
     "output_type": "stream",
     "text": [
      "value error\n"
     ]
    }
   ],
   "source": [
    "value = 0\n",
    "\n",
    "try:\n",
    "    print(value/0)\n",
    "except ZeroDivisionError:\n",
    "    print(\"value error\")"
   ]
  },
  {
   "cell_type": "code",
   "execution_count": 3,
   "id": "6d95fa65",
   "metadata": {},
   "outputs": [
    {
     "name": "stdout",
     "output_type": "stream",
     "text": [
      "enter0\n",
      "slse\n"
     ]
    }
   ],
   "source": [
    "try:\n",
    "    value = int(input(\"enter\"))\n",
    "except:\n",
    "    prunt(\"something went wrong\")\n",
    "else:\n",
    "    print(\"slse\")"
   ]
  },
  {
   "cell_type": "code",
   "execution_count": 5,
   "id": "e86aa012",
   "metadata": {},
   "outputs": [
    {
     "name": "stdout",
     "output_type": "stream",
     "text": [
      "('This is a custom error message',)\n"
     ]
    }
   ],
   "source": [
    "v = ValueError(\"This is a custom error message\")\n",
    "\n",
    "try:\n",
    "    raise v\n",
    "except ValueError as e:\n",
    "    print(e.args)\n"
   ]
  },
  {
   "cell_type": "code",
   "execution_count": 6,
   "id": "9763b89c",
   "metadata": {},
   "outputs": [
    {
     "name": "stdout",
     "output_type": "stream",
     "text": [
      "TypeError\n",
      "StopAsyncIteration\n",
      "StopIteration\n",
      "ImportError\n",
      "OSError\n",
      "EOFError\n",
      "RuntimeError\n",
      "NameError\n",
      "AttributeError\n",
      "SyntaxError\n",
      "LookupError\n",
      "ValueError\n",
      "AssertionError\n",
      "ArithmeticError\n",
      "SystemError\n",
      "ReferenceError\n",
      "MemoryError\n",
      "BufferError\n",
      "Warning\n",
      "Error\n",
      "_OptionError\n",
      "_Error\n",
      "error\n",
      "Verbose\n",
      "SubprocessError\n",
      "Error\n",
      "TokenError\n",
      "StopTokenizing\n",
      "error\n",
      "LZMAError\n",
      "RegistryError\n",
      "_GiveupOnFastCopy\n",
      "EndOfBlock\n",
      "TraitError\n",
      "ArgumentError\n",
      "ArgumentTypeError\n",
      "ConfigError\n",
      "ConfigurableError\n",
      "ApplicationError\n",
      "ErrorDuringImport\n",
      "BdbQuit\n",
      "Restart\n",
      "COMError\n",
      "ArgumentError\n",
      "error\n",
      "FindCmdError\n",
      "HomeDirError\n",
      "ProfileDirError\n",
      "IPythonCoreError\n",
      "InputRejected\n",
      "GetoptError\n",
      "Incomplete\n",
      "OptionError\n",
      "ErrorToken\n",
      "PickleError\n",
      "_Stop\n",
      "PrefilterError\n",
      "AliasError\n",
      "Error\n",
      "Warning\n",
      "SpaceInInput\n",
      "Error\n",
      "_GiveupOnSendfile\n",
      "TimeoutError\n",
      "InvalidStateError\n",
      "LimitOverrunError\n",
      "QueueEmpty\n",
      "QueueFull\n",
      "DOMException\n",
      "ValidationError\n",
      "EditReadOnlyBuffer\n",
      "_Retry\n",
      "InvalidLayoutError\n",
      "HeightIsUnknownError\n",
      "Empty\n",
      "Full\n",
      "ParserSyntaxError\n",
      "InternalParseError\n",
      "_PositionUpdatingFinished\n",
      "SimpleGetItemNotFound\n",
      "UncaughtAttributeError\n",
      "ParamIssue\n",
      "OnErrorLeaf\n",
      "_JediError\n",
      "InvalidPythonEnvironment\n",
      "MessageError\n",
      "Error\n",
      "HTTPException\n",
      "InteractivelyDefined\n",
      "KillEmbedded\n",
      "ZMQBaseError\n",
      "NoIPAddresses\n",
      "InvalidPortNumber\n",
      "DuplicateKernelError\n",
      "TimeoutError\n",
      "ReturnValueIgnoredError\n",
      "KeyReuseError\n",
      "UnknownKeyError\n",
      "LeakedCallbackError\n",
      "BadYieldError\n",
      "ReturnValueIgnoredError\n",
      "Return\n",
      "QueueEmpty\n",
      "QueueFull\n",
      "error\n",
      "com_error\n"
     ]
    }
   ],
   "source": [
    "for subclass in Exception.__subclasses__():\n",
    "    print(subclass.__name__)"
   ]
  },
  {
   "cell_type": "code",
   "execution_count": null,
   "id": "46b1d7c1",
   "metadata": {},
   "outputs": [],
   "source": []
  }
 ],
 "metadata": {
  "kernelspec": {
   "display_name": "Python 3",
   "language": "python",
   "name": "python3"
  },
  "language_info": {
   "codemirror_mode": {
    "name": "ipython",
    "version": 3
   },
   "file_extension": ".py",
   "mimetype": "text/x-python",
   "name": "python",
   "nbconvert_exporter": "python",
   "pygments_lexer": "ipython3",
   "version": "3.8.8"
  }
 },
 "nbformat": 4,
 "nbformat_minor": 5
}
