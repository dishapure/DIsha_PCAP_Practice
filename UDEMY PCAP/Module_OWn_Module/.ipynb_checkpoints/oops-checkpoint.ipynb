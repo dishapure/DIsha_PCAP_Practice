{
 "cells": [
  {
   "cell_type": "code",
   "execution_count": 2,
   "id": "99d691d3",
   "metadata": {},
   "outputs": [],
   "source": [
    "class Vehical:\n",
    "    def showpower(self):\n",
    "        print(\"i can use power from varous soruces\")\n",
    "\n",
    "class Electric(Vehical):\n",
    "    def showpower(self):\n",
    "        print(\"i can use power from electricity\")\n",
    "\n",
    "class Petrolvehical(Vehical):\n",
    "    def showpower(self):\n",
    "        print(\"i can use power from petrol\")\n",
    "\n",
    "class hybridcar(Electric,Petrolvehical):\n",
    "    pass"
   ]
  },
  {
   "cell_type": "code",
   "execution_count": 3,
   "id": "49bcec4a",
   "metadata": {},
   "outputs": [
    {
     "name": "stdout",
     "output_type": "stream",
     "text": [
      "i can use power from electricity\n"
     ]
    }
   ],
   "source": [
    "my_toyota = hybridcar()\n",
    "my_toyota.showpower()"
   ]
  },
  {
   "cell_type": "code",
   "execution_count": 4,
   "id": "fecab950",
   "metadata": {},
   "outputs": [],
   "source": [
    "class Vehical:\n",
    "    def showpower(self):\n",
    "        print(\"i can use power from varous soruces\")\n",
    "\n",
    "class Electric(Vehical):\n",
    "    def showpower(self):\n",
    "        print(\"i can use power from electricity\")\n",
    "\n",
    "class Petrolvehical(Vehical):\n",
    "    def showpower(self):\n",
    "        print(\"i can use power from petrol\")\n",
    "\n",
    "class hybridcar(Petrolvehical,Electric):\n",
    "    pass"
   ]
  },
  {
   "cell_type": "code",
   "execution_count": 5,
   "id": "ef743984",
   "metadata": {},
   "outputs": [
    {
     "name": "stdout",
     "output_type": "stream",
     "text": [
      "i can use power from petrol\n"
     ]
    }
   ],
   "source": [
    "my_toyota = hybridcar()\n",
    "my_toyota.showpower()"
   ]
  },
  {
   "cell_type": "code",
   "execution_count": null,
   "id": "90a7c5a8",
   "metadata": {},
   "outputs": [],
   "source": []
  }
 ],
 "metadata": {
  "kernelspec": {
   "display_name": "Python 3",
   "language": "python",
   "name": "python3"
  },
  "language_info": {
   "codemirror_mode": {
    "name": "ipython",
    "version": 3
   },
   "file_extension": ".py",
   "mimetype": "text/x-python",
   "name": "python",
   "nbconvert_exporter": "python",
   "pygments_lexer": "ipython3",
   "version": "3.8.8"
  }
 },
 "nbformat": 4,
 "nbformat_minor": 5
}
