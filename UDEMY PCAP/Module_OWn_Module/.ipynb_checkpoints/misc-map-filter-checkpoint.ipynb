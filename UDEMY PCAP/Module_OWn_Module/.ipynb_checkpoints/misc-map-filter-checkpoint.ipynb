{
 "cells": [
  {
   "cell_type": "code",
   "execution_count": 1,
   "id": "a92dd43c",
   "metadata": {},
   "outputs": [
    {
     "data": {
      "text/plain": [
       "<map at 0x1fd270e4b80>"
      ]
     },
     "execution_count": 1,
     "metadata": {},
     "output_type": "execute_result"
    }
   ],
   "source": [
    "lambda_func = lambda i :i*2\n",
    "inilist = [1,2,3,4,5]\n",
    "map(lambda_func,inilist)"
   ]
  },
  {
   "cell_type": "code",
   "execution_count": 4,
   "id": "b207e2bb",
   "metadata": {},
   "outputs": [
    {
     "data": {
      "text/plain": [
       "10"
      ]
     },
     "execution_count": 4,
     "metadata": {},
     "output_type": "execute_result"
    }
   ],
   "source": [
    "map_restult = map(lambda_func,inilist)\n",
    "next(map_restult)\n",
    "next(map_restult)\n",
    "next(map_restult)\n",
    "next(map_restult)\n",
    "next(map_restult)"
   ]
  },
  {
   "cell_type": "code",
   "execution_count": 8,
   "id": "3a5f96ad",
   "metadata": {},
   "outputs": [
    {
     "name": "stdout",
     "output_type": "stream",
     "text": [
      "[2, 4, 6, 8, 10]\n"
     ]
    }
   ],
   "source": [
    "print(list(map(lambda i: i * 2, [1, 2, 3, 4, 5])))\n"
   ]
  },
  {
   "cell_type": "code",
   "execution_count": 9,
   "id": "0da7bc90",
   "metadata": {},
   "outputs": [
    {
     "name": "stdout",
     "output_type": "stream",
     "text": [
      "[1, 2, 3, 4, 5]\n"
     ]
    }
   ],
   "source": [
    "print(list(map(lambda i: i * 2, [1, 2, 3, 4, 5])))\n"
   ]
  },
  {
   "cell_type": "code",
   "execution_count": 10,
   "id": "09aaa1b0",
   "metadata": {},
   "outputs": [
    {
     "name": "stdout",
     "output_type": "stream",
     "text": [
      "[2, 4, 6, 8]\n"
     ]
    }
   ],
   "source": [
    "print(list(filter(lambda i: i % 2 == 0, [1, 2, 3, 4, 5,6,7,8,9])))\n"
   ]
  },
  {
   "cell_type": "code",
   "execution_count": null,
   "id": "b2d3afe3",
   "metadata": {},
   "outputs": [],
   "source": []
  }
 ],
 "metadata": {
  "kernelspec": {
   "display_name": "Python 3",
   "language": "python",
   "name": "python3"
  },
  "language_info": {
   "codemirror_mode": {
    "name": "ipython",
    "version": 3
   },
   "file_extension": ".py",
   "mimetype": "text/x-python",
   "name": "python",
   "nbconvert_exporter": "python",
   "pygments_lexer": "ipython3",
   "version": "3.8.8"
  }
 },
 "nbformat": 4,
 "nbformat_minor": 5
}
