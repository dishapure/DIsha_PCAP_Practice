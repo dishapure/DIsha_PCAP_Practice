{
 "cells": [
  {
   "cell_type": "code",
   "execution_count": null,
   "id": "eab79c56",
   "metadata": {},
   "outputs": [],
   "source": [
    "lambda para1, para2 : #instructions"
   ]
  },
  {
   "cell_type": "code",
   "execution_count": null,
   "id": "ea979e6b",
   "metadata": {},
   "outputs": [],
   "source": [
    "def sum(a,b):\n",
    "    return a+b"
   ]
  },
  {
   "cell_type": "code",
   "execution_count": 2,
   "id": "b5cb4bff",
   "metadata": {},
   "outputs": [
    {
     "data": {
      "text/plain": [
       "<function __main__.<lambda>(a, b)>"
      ]
     },
     "execution_count": 2,
     "metadata": {},
     "output_type": "execute_result"
    }
   ],
   "source": [
    "lambda a,b : a+b"
   ]
  },
  {
   "cell_type": "code",
   "execution_count": 4,
   "id": "f31539c4",
   "metadata": {},
   "outputs": [
    {
     "data": {
      "text/plain": [
       "8"
      ]
     },
     "execution_count": 4,
     "metadata": {},
     "output_type": "execute_result"
    }
   ],
   "source": [
    "\n",
    "def sum(a,b):\n",
    "    return a+b\n",
    "\n",
    "sum(5,3)"
   ]
  },
  {
   "cell_type": "code",
   "execution_count": 8,
   "id": "732188f2",
   "metadata": {},
   "outputs": [
    {
     "data": {
      "text/plain": [
       "8"
      ]
     },
     "execution_count": 8,
     "metadata": {},
     "output_type": "execute_result"
    }
   ],
   "source": [
    "anohter_Sum = lambda a,b : a+b\n",
    "anohter_Sum(5,3)"
   ]
  },
  {
   "cell_type": "code",
   "execution_count": null,
   "id": "6f80407c",
   "metadata": {},
   "outputs": [],
   "source": [
    "def fun(ele,func):\n",
    "    for elements in ele:\n",
    "        print(fun(elements))"
   ]
  },
  {
   "cell_type": "code",
   "execution_count": 11,
   "id": "161e9555",
   "metadata": {},
   "outputs": [
    {
     "name": "stdout",
     "output_type": "stream",
     "text": [
      "1\n",
      "4\n",
      "9\n",
      "16\n",
      "25\n"
     ]
    }
   ],
   "source": [
    "def fun(ele, func):\n",
    "    for element in ele:\n",
    "        print(func(element))\n",
    "\n",
    "my_func = lambda x: x * x\n",
    "fun([1, 2, 3, 4, 5], my_func)\n"
   ]
  },
  {
   "cell_type": "code",
   "execution_count": 12,
   "id": "1a4650d5",
   "metadata": {},
   "outputs": [
    {
     "name": "stdout",
     "output_type": "stream",
     "text": [
      "0\n",
      "0\n",
      "0\n",
      "0\n",
      "0\n"
     ]
    }
   ],
   "source": [
    "def fun(ele, func):\n",
    "    for element in ele:\n",
    "        print(func(element))\n",
    "\n",
    "my_func = lambda x: 0\n",
    "fun([1, 2, 3, 4, 5], my_func)"
   ]
  },
  {
   "cell_type": "code",
   "execution_count": 13,
   "id": "ff236f20",
   "metadata": {},
   "outputs": [
    {
     "name": "stdout",
     "output_type": "stream",
     "text": [
      "0\n",
      "0\n",
      "0\n",
      "0\n",
      "0\n"
     ]
    }
   ],
   "source": [
    "def fun(ele, func):\n",
    "    for element in ele:\n",
    "        print(func(element))\n",
    "\n",
    "fun([1, 2, 3, 4, 5], lambda x: 0)"
   ]
  },
  {
   "cell_type": "code",
   "execution_count": null,
   "id": "2b787b7c",
   "metadata": {},
   "outputs": [],
   "source": []
  }
 ],
 "metadata": {
  "kernelspec": {
   "display_name": "Python 3",
   "language": "python",
   "name": "python3"
  },
  "language_info": {
   "codemirror_mode": {
    "name": "ipython",
    "version": 3
   },
   "file_extension": ".py",
   "mimetype": "text/x-python",
   "name": "python",
   "nbconvert_exporter": "python",
   "pygments_lexer": "ipython3",
   "version": "3.8.8"
  }
 },
 "nbformat": 4,
 "nbformat_minor": 5
}
