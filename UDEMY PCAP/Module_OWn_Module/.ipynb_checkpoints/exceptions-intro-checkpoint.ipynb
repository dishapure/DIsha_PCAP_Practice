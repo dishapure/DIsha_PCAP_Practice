{
 "cells": [
  {
   "cell_type": "code",
   "execution_count": 2,
   "id": "a69f90db",
   "metadata": {},
   "outputs": [
    {
     "name": "stdout",
     "output_type": "stream",
     "text": [
      "horray!\n"
     ]
    }
   ],
   "source": [
    "if True:\n",
    "    print(\"horray!\")"
   ]
  },
  {
   "cell_type": "code",
   "execution_count": null,
   "id": "c0fab795",
   "metadata": {},
   "outputs": [],
   "source": []
  },
  {
   "cell_type": "code",
   "execution_count": null,
   "id": "36216ac4",
   "metadata": {},
   "outputs": [],
   "source": [
    "# SyntaxError example\n",
    "def print_message()\n",
    "    print(\"Hello, World!\")\n",
    "\n",
    "# Missing colon after function definition\n"
   ]
  },
  {
   "cell_type": "code",
   "execution_count": null,
   "id": "799f8c28",
   "metadata": {},
   "outputs": [],
   "source": [
    "# IndentationError example\n",
    "def print_message():\n",
    "print(\"Hello, World!\")\n",
    "\n",
    "# Missing indentation for the function body\n"
   ]
  },
  {
   "cell_type": "code",
   "execution_count": null,
   "id": "3f725fc2",
   "metadata": {},
   "outputs": [],
   "source": [
    "# NameError example\n",
    "x = 5\n",
    "print(y)\n",
    "\n",
    "# 'y' is not defined\n"
   ]
  },
  {
   "cell_type": "code",
   "execution_count": null,
   "id": "adaa010a",
   "metadata": {},
   "outputs": [],
   "source": [
    "# TypeError example\n",
    "x = \"5\"\n",
    "y = 10\n",
    "result = x + y\n",
    "\n",
    "# Cannot concatenate 'str' and 'int' objects\n"
   ]
  },
  {
   "cell_type": "code",
   "execution_count": null,
   "id": "d8627eb0",
   "metadata": {},
   "outputs": [],
   "source": [
    "# ValueError example\n",
    "number = int(\"abc\")\n",
    "\n",
    "# Invalid literal for int() with base 10: 'abc'\n"
   ]
  },
  {
   "cell_type": "code",
   "execution_count": null,
   "id": "90d0b214",
   "metadata": {},
   "outputs": [],
   "source": [
    "# IndexError example\n",
    "my_list = [1, 2, 3]\n",
    "value = my_list[5]\n",
    "\n",
    "# List index out of range\n"
   ]
  },
  {
   "cell_type": "code",
   "execution_count": null,
   "id": "1f6f22f4",
   "metadata": {},
   "outputs": [],
   "source": [
    "# KeyError example\n",
    "my_dict = {'a': 1, 'b': 2}\n",
    "value = my_dict['c']\n",
    "\n",
    "# Key 'c' not found in dictionary\n"
   ]
  },
  {
   "cell_type": "code",
   "execution_count": null,
   "id": "679083e6",
   "metadata": {},
   "outputs": [],
   "source": [
    "# FileNotFoundError example\n",
    "with open(\"nonexistent_file.txt\", \"r\") as file:\n",
    "    content = file.read()\n",
    "\n",
    "# No such file or directory: 'nonexistent_file.txt'\n"
   ]
  },
  {
   "cell_type": "code",
   "execution_count": null,
   "id": "8d2e2b5a",
   "metadata": {},
   "outputs": [],
   "source": [
    "# ZeroDivisionError example\n",
    "result = 10 / 0\n",
    "\n",
    "# Division by zero\n"
   ]
  },
  {
   "cell_type": "code",
   "execution_count": null,
   "id": "6e06aed0",
   "metadata": {},
   "outputs": [],
   "source": [
    "# ImportError example\n",
    "import non_existent_module\n",
    "\n",
    "# ModuleNotFoundError: No module named 'non_existent_module'\n"
   ]
  },
  {
   "cell_type": "code",
   "execution_count": 3,
   "id": "705cd23b",
   "metadata": {},
   "outputs": [
    {
     "name": "stdout",
     "output_type": "stream",
     "text": [
      "Enter a numbera\n",
      "you did not provide anumber\n"
     ]
    }
   ],
   "source": [
    "try:\n",
    "    value = int(input(\"Enter a number\"))\n",
    "    print(1/value)\n",
    "except ValueError:\n",
    "    print(\"you did not provide anumber\")\n",
    "else:\n",
    "    print(\"somejting wrong\")"
   ]
  },
  {
   "cell_type": "code",
   "execution_count": null,
   "id": "ad4b770e",
   "metadata": {},
   "outputs": [],
   "source": []
  }
 ],
 "metadata": {
  "kernelspec": {
   "display_name": "Python 3",
   "language": "python",
   "name": "python3"
  },
  "language_info": {
   "codemirror_mode": {
    "name": "ipython",
    "version": 3
   },
   "file_extension": ".py",
   "mimetype": "text/x-python",
   "name": "python",
   "nbconvert_exporter": "python",
   "pygments_lexer": "ipython3",
   "version": "3.8.8"
  }
 },
 "nbformat": 4,
 "nbformat_minor": 5
}
