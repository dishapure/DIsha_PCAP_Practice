{
 "cells": [
  {
   "cell_type": "code",
   "execution_count": null,
   "id": "268b6e2b",
   "metadata": {},
   "outputs": [],
   "source": [
    "import sys\n",
    "import random\n",
    "class ToDoList:\n",
    "    userinput = input(\"Enter your choice, 1] add , 2]delete ,3]show, 4] q\")\n",
    "    if userinput == '1':\n",
    "        self.add()\n",
    "    elif userinput == '2':\n",
    "        self.delete()\n",
    "    elif userinput == '3':\n",
    "        self.show()\n",
    "    elif userinput == '4':\n",
    "        print(\"Quitting the to-do list.\")\n",
    "        sys.exit()\n",
    "    else:\n",
    "        print(\"Invalid choice. Please choose again.\")\n",
    "        \n",
    "    def add():\n",
    "        userinput2 = input(\"what do you want to add?\")\n",
    "        stream = open(\"F.txt\",\"a+\")\n",
    "        ID = ''.join(random.choice(letters) for _ in range(2))\n",
    "        file.write(ID,userinput2)\n",
    "        file.write(\"\\n\")\n",
    "        print(\"done\")\n",
    "    def delete():\n",
    "        with open(\"F.txt\", \"r\") as file:\n",
    "        lines = file.readlines()\n",
    "        print(\"Current tasks:\")\n",
    "        for index, task in enumerate(lines, start=1):\n",
    "            print(f\"{index}. {task.strip()}\")\n",
    "        userinput3 = input(\"Enter the ID of the task you want to delete: \")\n",
    "        updated_lines = [line for line in lines if userinput3 not in line]\n",
    "        with open(\"F.txt\", \"w\") as file:\n",
    "            print(\"Here is the updated task list!\")\n",
    "            file.writelines(updated_lines)\n",
    "        \n",
    "    def show():\n",
    "        with open(\"F.txt\", \"r\") as file:\n",
    "            lines = file.readlines()\n",
    "            print(\"Current tasks:\")\n",
    "            \n",
    "obj = ToDoList()"
   ]
  },
  {
   "cell_type": "code",
   "execution_count": null,
   "id": "fa4e1ce5",
   "metadata": {},
   "outputs": [],
   "source": [
    "print(\"hello\")"
   ]
  },
  {
   "cell_type": "code",
   "execution_count": null,
   "id": "a4449a18",
   "metadata": {},
   "outputs": [],
   "source": []
  }
 ],
 "metadata": {
  "kernelspec": {
   "display_name": "Python 3",
   "language": "python",
   "name": "python3"
  },
  "language_info": {
   "codemirror_mode": {
    "name": "ipython",
    "version": 3
   },
   "file_extension": ".py",
   "mimetype": "text/x-python",
   "name": "python",
   "nbconvert_exporter": "python",
   "pygments_lexer": "ipython3",
   "version": "3.8.8"
  }
 },
 "nbformat": 4,
 "nbformat_minor": 5
}
