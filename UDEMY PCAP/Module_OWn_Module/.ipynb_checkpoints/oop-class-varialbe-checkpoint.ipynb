{
 "cells": [
  {
   "cell_type": "code",
   "execution_count": 1,
   "id": "1d8c7685",
   "metadata": {},
   "outputs": [
    {
     "name": "stdout",
     "output_type": "stream",
     "text": [
      "3 3 3\n"
     ]
    }
   ],
   "source": [
    "class Dog:\n",
    "    counter = 0\n",
    "    def __init__(self,name,age):\n",
    "        self.__name = name\n",
    "        self.age = age\n",
    "        Dog.counter +=1\n",
    "        \n",
    "my_pet = Dog('teddy',2)\n",
    "kates_pet = Dog(\"Foxy\",5)\n",
    "adams_pet = Dog(\"Luna\",1)\n",
    "\n",
    "\n",
    "print(my_pet.counter,kates_pet.counter,adams_pet.counter)"
   ]
  },
  {
   "cell_type": "code",
   "execution_count": 4,
   "id": "1d0ca93d",
   "metadata": {},
   "outputs": [
    {
     "name": "stdout",
     "output_type": "stream",
     "text": [
      "{'__module__': '__main__', 'counter': 3, '__init__': <function Dog.__init__ at 0x000001ADE62AC820>, '__dict__': <attribute '__dict__' of 'Dog' objects>, '__weakref__': <attribute '__weakref__' of 'Dog' objects>, '__doc__': None}\n"
     ]
    }
   ],
   "source": [
    "print(Dog.__dict__)"
   ]
  },
  {
   "cell_type": "code",
   "execution_count": 2,
   "id": "29cdd168",
   "metadata": {},
   "outputs": [
    {
     "name": "stdout",
     "output_type": "stream",
     "text": [
      "Count: 1\n",
      "Count: 1\n"
     ]
    }
   ],
   "source": [
    "class Counter:\n",
    "    count = 0  # This is a class variable\n",
    "\n",
    "    def increment(self):\n",
    "        Counter.count += 1\n",
    "\n",
    "# Creating instances of the Counter class\n",
    "c1 = Counter()\n",
    "c2 = Counter()\n",
    "\n",
    "c1.increment()\n",
    "print(\"Count:\", c1.count)  # Output: Count: 1\n",
    "print(\"Count:\", c2.count)  # Output: Count: 1\n"
   ]
  },
  {
   "cell_type": "code",
   "execution_count": null,
   "id": "8838061f",
   "metadata": {},
   "outputs": [],
   "source": []
  }
 ],
 "metadata": {
  "kernelspec": {
   "display_name": "Python 3",
   "language": "python",
   "name": "python3"
  },
  "language_info": {
   "codemirror_mode": {
    "name": "ipython",
    "version": 3
   },
   "file_extension": ".py",
   "mimetype": "text/x-python",
   "name": "python",
   "nbconvert_exporter": "python",
   "pygments_lexer": "ipython3",
   "version": "3.8.8"
  }
 },
 "nbformat": 4,
 "nbformat_minor": 5
}
