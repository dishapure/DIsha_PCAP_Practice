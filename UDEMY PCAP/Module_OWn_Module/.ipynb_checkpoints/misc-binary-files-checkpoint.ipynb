{
 "cells": [
  {
   "cell_type": "code",
   "execution_count": 4,
   "id": "31d5f2fc",
   "metadata": {},
   "outputs": [
    {
     "ename": "ValueError",
     "evalue": "byte must be in range(0, 256)",
     "output_type": "error",
     "traceback": [
      "\u001b[1;31m---------------------------------------------------------------------------\u001b[0m",
      "\u001b[1;31mValueError\u001b[0m                                Traceback (most recent call last)",
      "\u001b[1;32m<ipython-input-4-2ac2bc42f19b>\u001b[0m in \u001b[0;36m<module>\u001b[1;34m\u001b[0m\n\u001b[0;32m      1\u001b[0m \u001b[0mdata\u001b[0m \u001b[1;33m=\u001b[0m \u001b[0mbytearray\u001b[0m\u001b[1;33m(\u001b[0m\u001b[1;36m100\u001b[0m\u001b[1;33m)\u001b[0m\u001b[1;33m\u001b[0m\u001b[1;33m\u001b[0m\u001b[0m\n\u001b[1;32m----> 2\u001b[1;33m \u001b[0mdata\u001b[0m\u001b[1;33m[\u001b[0m\u001b[1;36m0\u001b[0m\u001b[1;33m]\u001b[0m\u001b[1;33m=\u001b[0m\u001b[1;36m290\u001b[0m\u001b[1;33m\u001b[0m\u001b[1;33m\u001b[0m\u001b[0m\n\u001b[0m",
      "\u001b[1;31mValueError\u001b[0m: byte must be in range(0, 256)"
     ]
    }
   ],
   "source": [
    "data = bytearray(100)\n",
    "data[0]=290\n"
   ]
  },
  {
   "cell_type": "code",
   "execution_count": 6,
   "id": "431930db",
   "metadata": {},
   "outputs": [],
   "source": [
    "data = bytearray(100)\n",
    "data[0]=100\n",
    "data[1]=120\n",
    "\n",
    "try:\n",
    "    stream = open(\"file.bin\",\"wb\")\n",
    "    stream.write(data)\n",
    "    stream.close()\n",
    "except Exception:\n",
    "    print(\"an error occurred\")"
   ]
  },
  {
   "cell_type": "code",
   "execution_count": 9,
   "id": "c0dbb4b3",
   "metadata": {},
   "outputs": [
    {
     "name": "stdout",
     "output_type": "stream",
     "text": [
      "b'dx\\x00\\x00\\x00\\x00\\x00\\x00\\x00\\x00\\x00\\x00\\x00\\x00\\x00\\x00\\x00\\x00\\x00\\x00\\x00\\x00\\x00\\x00\\x00\\x00\\x00\\x00\\x00\\x00\\x00\\x00\\x00\\x00\\x00\\x00\\x00\\x00\\x00\\x00\\x00\\x00\\x00\\x00\\x00\\x00\\x00\\x00\\x00\\x00\\x00\\x00\\x00\\x00\\x00\\x00\\x00\\x00\\x00\\x00\\x00\\x00\\x00\\x00\\x00\\x00\\x00\\x00\\x00\\x00\\x00\\x00\\x00\\x00\\x00\\x00\\x00\\x00\\x00\\x00\\x00\\x00\\x00\\x00\\x00\\x00\\x00\\x00\\x00\\x00\\x00\\x00\\x00\\x00\\x00\\x00\\x00\\x00\\x00\\x00'\n"
     ]
    }
   ],
   "source": [
    "try:\n",
    "    bf = open(\"file.bin\",\"rb\")\n",
    "    byte_arry = bf.read()\n",
    "    bf.close()\n",
    "\n",
    "except:\n",
    "    print(\"error\")\n",
    "print(byte_arry)"
   ]
  },
  {
   "cell_type": "code",
   "execution_count": 13,
   "id": "84a37d06",
   "metadata": {},
   "outputs": [
    {
     "name": "stdout",
     "output_type": "stream",
     "text": [
      "0x640x780x00x00x00x00x00x00x00x00x00x00x00x00x00x00x00x00x00x00x00x00x00x00x00x00x00x00x00x00x00x00x00x00x00x00x00x00x00x00x00x00x00x00x00x00x00x00x00x00x00x00x00x00x00x00x00x00x00x00x00x00x00x00x00x00x00x00x00x00x00x00x00x00x00x00x00x00x00x00x00x00x00x00x00x00x00x00x00x00x00x00x00x00x00x00x00x00x00x0"
     ]
    }
   ],
   "source": [
    "for byte in byte_arry:\n",
    "    print(hex(byte),end=\"\")"
   ]
  },
  {
   "cell_type": "code",
   "execution_count": 14,
   "id": "591f1049",
   "metadata": {},
   "outputs": [
    {
     "name": "stdout",
     "output_type": "stream",
     "text": [
      "10012000000000000000000000000000000000000000000000000000000000000000000000000000000000000000000000000000"
     ]
    }
   ],
   "source": [
    "for byte in byte_arry:\n",
    "    print(int(byte),end=\"\")"
   ]
  },
  {
   "cell_type": "code",
   "execution_count": 16,
   "id": "151ffd5b",
   "metadata": {},
   "outputs": [
    {
     "name": "stdout",
     "output_type": "stream",
     "text": [
      "100\n",
      "None 120\n",
      "None 0\n",
      "None 0\n",
      "None 0\n",
      "None 0\n",
      "None 0\n",
      "None 0\n",
      "None 0\n",
      "None 0\n",
      "None 0\n",
      "None 0\n",
      "None 0\n",
      "None 0\n",
      "None 0\n",
      "None 0\n",
      "None 0\n",
      "None 0\n",
      "None 0\n",
      "None 0\n",
      "None 0\n",
      "None 0\n",
      "None 0\n",
      "None 0\n",
      "None 0\n",
      "None 0\n",
      "None 0\n",
      "None 0\n",
      "None 0\n",
      "None 0\n",
      "None 0\n",
      "None 0\n",
      "None 0\n",
      "None 0\n",
      "None 0\n",
      "None 0\n",
      "None 0\n",
      "None 0\n",
      "None 0\n",
      "None 0\n",
      "None 0\n",
      "None 0\n",
      "None 0\n",
      "None 0\n",
      "None 0\n",
      "None 0\n",
      "None 0\n",
      "None 0\n",
      "None 0\n",
      "None 0\n",
      "None 0\n",
      "None 0\n",
      "None 0\n",
      "None 0\n",
      "None 0\n",
      "None 0\n",
      "None 0\n",
      "None 0\n",
      "None 0\n",
      "None 0\n",
      "None 0\n",
      "None 0\n",
      "None 0\n",
      "None 0\n",
      "None 0\n",
      "None 0\n",
      "None 0\n",
      "None 0\n",
      "None 0\n",
      "None 0\n",
      "None 0\n",
      "None 0\n",
      "None 0\n",
      "None 0\n",
      "None 0\n",
      "None 0\n",
      "None 0\n",
      "None 0\n",
      "None 0\n",
      "None 0\n",
      "None 0\n",
      "None 0\n",
      "None 0\n",
      "None 0\n",
      "None 0\n",
      "None 0\n",
      "None 0\n",
      "None 0\n",
      "None 0\n",
      "None 0\n",
      "None 0\n",
      "None 0\n",
      "None 0\n",
      "None 0\n",
      "None 0\n",
      "None 0\n",
      "None 0\n",
      "None 0\n",
      "None 0\n",
      "None 0\n",
      "None "
     ]
    }
   ],
   "source": [
    "for byte in byte_arry:\n",
    "    print(print(byte),end=\" \")"
   ]
  },
  {
   "cell_type": "code",
   "execution_count": null,
   "id": "f7776eb4",
   "metadata": {},
   "outputs": [],
   "source": []
  }
 ],
 "metadata": {
  "kernelspec": {
   "display_name": "Python 3",
   "language": "python",
   "name": "python3"
  },
  "language_info": {
   "codemirror_mode": {
    "name": "ipython",
    "version": 3
   },
   "file_extension": ".py",
   "mimetype": "text/x-python",
   "name": "python",
   "nbconvert_exporter": "python",
   "pygments_lexer": "ipython3",
   "version": "3.8.8"
  }
 },
 "nbformat": 4,
 "nbformat_minor": 5
}
