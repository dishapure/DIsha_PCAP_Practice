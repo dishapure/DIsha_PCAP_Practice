{
 "cells": [
  {
   "cell_type": "code",
   "execution_count": 1,
   "id": "7be0e031",
   "metadata": {},
   "outputs": [],
   "source": [
    "try:\n",
    "    stream = open(\"animals.txt\")\n",
    "    print(stream.read())\n",
    "    stream.close()\n",
    "except Exception as e:\n",
    "    print(\"error\")"
   ]
  },
  {
   "cell_type": "code",
   "execution_count": 2,
   "id": "82547ec8",
   "metadata": {},
   "outputs": [
    {
     "name": "stdout",
     "output_type": "stream",
     "text": [
      "Dog Cat\n",
      "Pig Horse\n"
     ]
    }
   ],
   "source": [
    "try:\n",
    "    stream = open(\"animals.txt\")\n",
    "    print(stream.read())\n",
    "    stream.close()\n",
    "except Exception as e:\n",
    "    print(\"error\")"
   ]
  },
  {
   "cell_type": "code",
   "execution_count": 5,
   "id": "057b7488",
   "metadata": {},
   "outputs": [
    {
     "name": "stdout",
     "output_type": "stream",
     "text": [
      "Dog Cat\n",
      "Pi\n",
      "g Horse\n",
      "\n",
      "\n",
      "\n"
     ]
    }
   ],
   "source": [
    "try:\n",
    "    stream = open(\"animals.txt\")\n",
    "    print(stream.read(10))\n",
    "    print(stream.read(10))\n",
    "    print(stream.read(10))\n",
    "    print(stream.read(10))\n",
    "    print(stream.read(10)) # empty lines are, nothing bad and prints lines\n",
    "    stream.close()\n",
    "except Exception as e:\n",
    "    print(\"error\")"
   ]
  },
  {
   "cell_type": "code",
   "execution_count": 7,
   "id": "54d3775e",
   "metadata": {},
   "outputs": [
    {
     "name": "stdout",
     "output_type": "stream",
     "text": [
      "D-o-g- -C-a-t-\n",
      "-P-i-g- -H-o-r-s-e-"
     ]
    }
   ],
   "source": [
    "try:\n",
    "    stream = open(\"animals.txt\")\n",
    "    character = stream.read(1)\n",
    "    while character != '':\n",
    "        print(character,end='-')\n",
    "        character = stream.read(1)\n",
    "    stream.close()\n",
    "except Exception as e:\n",
    "    print(\"error\")"
   ]
  },
  {
   "cell_type": "code",
   "execution_count": 9,
   "id": "27579bcf",
   "metadata": {},
   "outputs": [
    {
     "name": "stdout",
     "output_type": "stream",
     "text": [
      "D-o-g- -C-a-t-\n",
      "-P-i-g- -H-o-r-s-e-\n",
      "Number of characters 17\n"
     ]
    }
   ],
   "source": [
    "try:\n",
    "    stream = open(\"animals.txt\")\n",
    "    counter = 0\n",
    "    character = stream.read(1)\n",
    "    while character != '':\n",
    "        counter +=1\n",
    "        print(character,end='-')\n",
    "        character = stream.read(1)\n",
    "    stream.close()\n",
    "    print('\\nNumber of characters',counter)\n",
    "except Exception as e:\n",
    "    print(\"error\")"
   ]
  },
  {
   "cell_type": "code",
   "execution_count": 15,
   "id": "ff527d9a",
   "metadata": {},
   "outputs": [
    {
     "name": "stdout",
     "output_type": "stream",
     "text": [
      "Dog Cat\n",
      "Pig Horse\n",
      "Number of lines: 2\n"
     ]
    }
   ],
   "source": [
    "try:\n",
    "    stream = open(\"animals.txt\")\n",
    "    counter = 0\n",
    "    line = stream.readline()\n",
    "    while line != '':\n",
    "        counter += 1\n",
    "        print(line, end='')\n",
    "        line = stream.readline()\n",
    "    stream.close()\n",
    "    print('\\nNumber of lines:', counter)\n",
    "except Exception as e:\n",
    "    print(\"Error:\", e)\n"
   ]
  },
  {
   "cell_type": "code",
   "execution_count": 16,
   "id": "47145e49",
   "metadata": {},
   "outputs": [
    {
     "name": "stdout",
     "output_type": "stream",
     "text": [
      "contents of the lines ['Dog Cat\\n', 'Pig Horse']\n",
      "number of lines in the file: 2\n",
      "Dog Cat\n",
      "Pig Horse"
     ]
    }
   ],
   "source": [
    "try:\n",
    "    stream = open(\"animals.txt\")\n",
    "    \n",
    "    lines = stream.readlines()\n",
    "    print('contents of the lines',lines)\n",
    "    print(\"number of lines in the file:\", len(lines))\n",
    "    for line in lines:\n",
    "        print(line,end='')\n",
    "    stream.close()\n",
    "except Exception as e:\n",
    "    print(\"Error:\", e)\n"
   ]
  },
  {
   "cell_type": "code",
   "execution_count": 17,
   "id": "7d9789b1",
   "metadata": {},
   "outputs": [
    {
     "name": "stdout",
     "output_type": "stream",
     "text": [
      "Dog Cat\n",
      "\n",
      "Pig Horse\n"
     ]
    }
   ],
   "source": [
    "try:\n",
    "    stream = open(\"animals.txt\")\n",
    "    \n",
    "    lines = stream.readlines(2)\n",
    "    while len(lines) !=0:\n",
    "        for line in lines:\n",
    "            print(line,sep=\"\")\n",
    "        lines = stream.readlines(2)\n",
    "    stream.close()\n",
    "except Exception as e:\n",
    "    print(\"Error:\", e)\n"
   ]
  },
  {
   "cell_type": "code",
   "execution_count": 20,
   "id": "3f1d837d",
   "metadata": {},
   "outputs": [
    {
     "name": "stdout",
     "output_type": "stream",
     "text": [
      "Dog Cat\n",
      "Pig Horse"
     ]
    }
   ],
   "source": [
    "try:\n",
    "    stream = open(\"animals.txt\")\n",
    "    for line in stream:\n",
    "        print(line,end=\"\")\n",
    "    stream.close()\n",
    "except Exception as e:\n",
    "    print(\"error\")"
   ]
  },
  {
   "cell_type": "code",
   "execution_count": null,
   "id": "7558f838",
   "metadata": {},
   "outputs": [],
   "source": []
  }
 ],
 "metadata": {
  "kernelspec": {
   "display_name": "Python 3",
   "language": "python",
   "name": "python3"
  },
  "language_info": {
   "codemirror_mode": {
    "name": "ipython",
    "version": 3
   },
   "file_extension": ".py",
   "mimetype": "text/x-python",
   "name": "python",
   "nbconvert_exporter": "python",
   "pygments_lexer": "ipython3",
   "version": "3.8.8"
  }
 },
 "nbformat": 4,
 "nbformat_minor": 5
}
