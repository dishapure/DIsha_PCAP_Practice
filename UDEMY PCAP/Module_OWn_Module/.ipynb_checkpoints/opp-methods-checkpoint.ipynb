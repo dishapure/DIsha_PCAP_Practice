{
 "cells": [
  {
   "cell_type": "code",
   "execution_count": 2,
   "id": "7c7106ae",
   "metadata": {},
   "outputs": [
    {
     "name": "stdout",
     "output_type": "stream",
     "text": [
      "<__main__.Point object at 0x000001C442FA2910>\n"
     ]
    }
   ],
   "source": [
    " class Point:\n",
    "    def __init__(self, x, y):\n",
    "        self.x = x\n",
    "        self.y = y\n",
    "\n",
    "    '''def __str__(self):\n",
    "        return f\"Point({self.x}, {self.y})\"'''\n",
    "\n",
    "point = Point(3, 5)\n",
    "print(point)  # Output: Point(3, 5)\n"
   ]
  },
  {
   "cell_type": "code",
   "execution_count": 3,
   "id": "981699fc",
   "metadata": {},
   "outputs": [
    {
     "name": "stdout",
     "output_type": "stream",
     "text": [
      "100\n"
     ]
    }
   ],
   "source": [
    "class Car():\n",
    "  def __init__(self='default value', speed=100):\n",
    "    self.speed = speed\n",
    " \n",
    "my_toyota = Car()\n",
    "print(my_toyota.speed)   # default value for self ignored"
   ]
  },
  {
   "cell_type": "code",
   "execution_count": null,
   "id": "b3191d89",
   "metadata": {},
   "outputs": [],
   "source": []
  }
 ],
 "metadata": {
  "kernelspec": {
   "display_name": "Python 3",
   "language": "python",
   "name": "python3"
  },
  "language_info": {
   "codemirror_mode": {
    "name": "ipython",
    "version": 3
   },
   "file_extension": ".py",
   "mimetype": "text/x-python",
   "name": "python",
   "nbconvert_exporter": "python",
   "pygments_lexer": "ipython3",
   "version": "3.8.8"
  }
 },
 "nbformat": 4,
 "nbformat_minor": 5
}
