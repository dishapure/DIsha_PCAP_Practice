{
 "cells": [
  {
   "cell_type": "code",
   "execution_count": 5,
   "id": "16f6a545",
   "metadata": {},
   "outputs": [
    {
     "ename": "SyntaxError",
     "evalue": "invalid syntax (<ipython-input-5-dbde87b7be28>, line 6)",
     "output_type": "error",
     "traceback": [
      "\u001b[1;36m  File \u001b[1;32m\"<ipython-input-5-dbde87b7be28>\"\u001b[1;36m, line \u001b[1;32m6\u001b[0m\n\u001b[1;33m    def introduce?(self):\u001b[0m\n\u001b[1;37m                 ^\u001b[0m\n\u001b[1;31mSyntaxError\u001b[0m\u001b[1;31m:\u001b[0m invalid syntax\n"
     ]
    }
   ],
   "source": [
    "class User:\n",
    "    def __init__(self):\n",
    "        self.nickname = \"nick\"\n",
    "        self.city = \"city\"\n",
    "        \n",
    "    def introduce?(self):\n",
    "        print(\"Hello\",self.nickname,\"you live in \",self.city)\n",
    "        \n",
    "sample_user = User()\n",
    "sample_user.introduce?()"
   ]
  },
  {
   "cell_type": "code",
   "execution_count": null,
   "id": "21def443",
   "metadata": {},
   "outputs": [],
   "source": []
  },
  {
   "cell_type": "code",
   "execution_count": 7,
   "id": "355d25e3",
   "metadata": {},
   "outputs": [
    {
     "name": "stdout",
     "output_type": "stream",
     "text": [
      "Hello darkkingh you live in  hell\n"
     ]
    }
   ],
   "source": [
    "class User:\n",
    "    def __init__(self,nickname,city):\n",
    "        self.nickname = nickname\n",
    "        self.city = city\n",
    "        \n",
    "    def introduce(self):\n",
    "        print(\"Hello\",self.nickname,\"you live in \",self.city)\n",
    "        \n",
    "sample_user = User(\"darkkingh\",\"hell\")\n",
    "sample_user.introduce()"
   ]
  },
  {
   "cell_type": "code",
   "execution_count": null,
   "id": "c57eba33",
   "metadata": {},
   "outputs": [],
   "source": []
  },
  {
   "cell_type": "code",
   "execution_count": null,
   "id": "4396d4b3",
   "metadata": {},
   "outputs": [],
   "source": []
  }
 ],
 "metadata": {
  "kernelspec": {
   "display_name": "Python 3",
   "language": "python",
   "name": "python3"
  },
  "language_info": {
   "codemirror_mode": {
    "name": "ipython",
    "version": 3
   },
   "file_extension": ".py",
   "mimetype": "text/x-python",
   "name": "python",
   "nbconvert_exporter": "python",
   "pygments_lexer": "ipython3",
   "version": "3.8.8"
  }
 },
 "nbformat": 4,
 "nbformat_minor": 5
}
